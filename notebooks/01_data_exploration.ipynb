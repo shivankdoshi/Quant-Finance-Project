# Import libraries
import pandas as pd
import matplotlib.pyplot as plt
import seaborn as sns

# Load the raw data
data = pd.read_csv('../data/raw/sp500_yahoo.csv')

# Display the first few rows of the data
data.head()

# Summary statistics
data.describe()

# Visualize the closing prices
plt.figure(figsize=(14, 7))
plt.plot(data['Date'], data['Close'], label='S&P 500 Closing Price')
plt.title('S&P 500 Closing Price Over Time')
plt.xlabel('Date')
plt.ylabel('Closing Price')
plt.legend()
plt.show()

# Check for missing values
data.isnull().sum()
