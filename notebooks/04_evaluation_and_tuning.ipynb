# Import libraries
import pandas as pd
import joblib
from sklearn.metrics import mean_squared_error, mean_absolute_error
from sklearn.model_selection import GridSearchCV
from xgboost import XGBRegressor

# Load the trained model and test data
model = joblib.load('../models/xgboost_model.pkl')
data = pd.read_csv('../data/processed/sp500_features.csv')
X_test = data.drop(['Date', 'Close'], axis=1)
y_test = data['Close']

# Predict on the test set
y_pred = model.predict(X_test)

# Evaluate the model performance
mse = mean_squared_error(y_test, y_pred)
mae = mean_absolute_error(y_test, y_pred)
print(f'Mean Squared Error: {mse}')
print(f'Mean Absolute Error: {mae}')

# Example: Hyperparameter tuning using GridSearchCV
param_grid = {
    'n_estimators': [50, 100, 200],
    'learning_rate': [0.01, 0.1, 0.2],
    'max_depth': [3, 5, 7]
}
grid_search = GridSearchCV(XGBRegressor(), param_grid, scoring='neg_mean_squared_error', cv=3, verbose=1)
grid_search.fit(X_train, y_train)

# Best parameters
print(f'Best parameters: {grid_search.best_params_}')

# Retrain model with the best parameters
best_model = grid_search.best_estimator_
joblib.dump(best_model, '../models/xgboost_best_model.pkl')
