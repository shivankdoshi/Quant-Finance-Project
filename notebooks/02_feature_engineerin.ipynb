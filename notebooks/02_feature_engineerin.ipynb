# Import libraries
import pandas as pd

# Load the raw data
data = pd.read_csv('../data/raw/sp500_yahoo.csv')

# Example: Create a 7-day moving average
data['7_day_MA'] = data['Close'].rolling(window=7).mean()

# Example: Create a feature for the percentage change in price
data['pct_change'] = data['Close'].pct_change()

# Drop rows with missing values due to rolling calculations
data.dropna(inplace=True)

# Save the processed data
data.to_csv('../data/processed/sp500_features.csv', index=False)

