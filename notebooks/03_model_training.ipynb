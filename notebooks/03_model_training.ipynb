# Import libraries
import pandas as pd
from sklearn.model_selection import train_test_split
from xgboost import XGBRegressor
from sklearn.metrics import mean_squared_error

# Load the processed data
data = pd.read_csv('../data/processed/sp500_features.csv')

# Define features and target variable
X = data.drop(['Date', 'Close'], axis=1)
y = data['Close']

# Split data into training and testing sets
X_train, X_test, y_train, y_test = train_test_split(X, y, test_size=0.2, random_state=42)

# Initialize and train the XGBoost model
model = XGBRegressor(n_estimators=100, learning_rate=0.1, max_depth=5)
model.fit(X_train, y_train)

# Save the model
import joblib
joblib.dump(model, '../models/xgboost_model.pkl')

# Predict on the test set
y_pred = model.predict(X_test)

# Evaluate the model
mse = mean_squared_error(y_test, y_pred)
print(f'Mean Squared Error: {mse}')
